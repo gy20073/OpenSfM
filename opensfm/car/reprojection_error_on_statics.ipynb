{
 "cells": [
  {
   "cell_type": "code",
   "execution_count": 89,
   "metadata": {
    "collapsed": true
   },
   "outputs": [],
   "source": [
    "import sys\n",
    "sys.path.append(\"../../\")\n",
    "from opensfm import dataset\n",
    "from opensfm import features\n",
    "import numpy as np"
   ]
  },
  {
   "cell_type": "code",
   "execution_count": 90,
   "metadata": {
    "collapsed": true
   },
   "outputs": [],
   "source": [
    "path = \"/old_data/abobu/data_seg/03df831f-35275baa\"\n",
    "relative_seg_path = path + \"/masks\"\n",
    "\n",
    "#path = \"/old_data/abobu/data_noseg/03df831f-35275baa\""
   ]
  },
  {
   "cell_type": "code",
   "execution_count": 91,
   "metadata": {
    "collapsed": true
   },
   "outputs": [],
   "source": [
    "data = dataset.DataSet(path)"
   ]
  },
  {
   "cell_type": "code",
   "execution_count": 98,
   "metadata": {},
   "outputs": [],
   "source": [
    "r=reconstruction[0]"
   ]
  },
  {
   "cell_type": "code",
   "execution_count": 101,
   "metadata": {},
   "outputs": [
    {
     "data": {
      "text/plain": [
       "402"
      ]
     },
     "execution_count": 101,
     "metadata": {},
     "output_type": "execute_result"
    }
   ],
   "source": [
    "len(r.shots.keys())"
   ]
  },
  {
   "cell_type": "code",
   "execution_count": 102,
   "metadata": {
    "collapsed": true
   },
   "outputs": [],
   "source": [
    "def return_longest_recon(reconstruction):\n",
    "    maxi = 0\n",
    "    def num_images(recon):\n",
    "        return len(recon.shots.keys())\n",
    "    \n",
    "    for i, recon in enumerate(reconstruction):\n",
    "        if num_images(recon) > num_images(reconstruction[maxi]):\n",
    "            maxi = i\n",
    "    return reconstruction[maxi]\n"
   ]
  },
  {
   "cell_type": "code",
   "execution_count": 104,
   "metadata": {},
   "outputs": [],
   "source": [
    "r=return_longest_recon(reconstruction)"
   ]
  },
  {
   "cell_type": "code",
   "execution_count": 105,
   "metadata": {},
   "outputs": [
    {
     "data": {
      "text/plain": [
       "402"
      ]
     },
     "execution_count": 105,
     "metadata": {},
     "output_type": "execute_result"
    }
   ],
   "source": [
    "len(r.shots)"
   ]
  },
  {
   "cell_type": "code",
   "execution_count": 92,
   "metadata": {
    "collapsed": true
   },
   "outputs": [],
   "source": [
    "reconstruction = data.load_reconstruction()\n",
    "graph = data.load_tracks_graph()\n",
    "\n",
    "# first read in all images\n",
    "\n",
    "mask_dict={}\n",
    "for imageid in reconstruction[0].shots.keys():\n",
    "    mask_dict[imageid] = data.seg_as_array(imageid, relative_seg_path)"
   ]
  },
  {
   "cell_type": "code",
   "execution_count": 93,
   "metadata": {
    "collapsed": true
   },
   "outputs": [],
   "source": [
    "def check_a_point(point, mask):\n",
    "    # assert that the point is one dimensional\n",
    "    points = np.array(point)\n",
    "    points = points[np.newaxis, 0:2]\n",
    "    points = features.denormalized_image_coordinates(points, mask.shape[1], mask.shape[0])\n",
    "    p = points[0, :]\n",
    "    if mask[int(p[1]), int(p[0])] == 0:\n",
    "        # then not include this point\n",
    "        return 0\n",
    "    else:\n",
    "        # include this point\n",
    "        return 1"
   ]
  },
  {
   "cell_type": "code",
   "execution_count": 94,
   "metadata": {
    "collapsed": true
   },
   "outputs": [],
   "source": [
    "def check_3D_point(track_id, masks, graph):\n",
    "    # return whether want to include this 3D point    \n",
    "    each_point = []\n",
    "    for image_id in graph[track_id]:\n",
    "        loc = graph[track_id][image_id]['feature']\n",
    "        each_point.append(check_a_point(loc, masks[image_id]))\n",
    "    # we apply a heuristic of if larger than 1/3 on moving object, then throw it away\n",
    "    each_point = np.array(each_point)\n",
    "    \n",
    "    # 1 means static\n",
    "    ratio = 1.0 * np.sum(each_point) / len(each_point)\n",
    "    #print \"ratio\", ratio\n",
    "    if ratio < 2.0 / 3:\n",
    "        return 0 # do not include this point in evaluation\n",
    "    else:\n",
    "        return 1 # include this point in the evaluation"
   ]
  },
  {
   "cell_type": "code",
   "execution_count": 95,
   "metadata": {
    "collapsed": true
   },
   "outputs": [],
   "source": [
    "# for each of the point, determine whether it should be included in the final evaluation\n",
    "def evaluate_all_points(reconstruction, masks, graph):\n",
    "    if len(reconstruction) != 1:\n",
    "        print \"reconstruction has more than one segments or 0 segments\"\n",
    "        return 1e9\n",
    "    else:\n",
    "        rec = reconstruction[0]\n",
    "\n",
    "    errors = []\n",
    "    for track_id in rec.points:\n",
    "        if check_3D_point(track_id, masks, graph):\n",
    "            errors.append(rec.points[track_id].reprojection_error)\n",
    "    return np.mean(errors)"
   ]
  },
  {
   "cell_type": "code",
   "execution_count": 96,
   "metadata": {},
   "outputs": [
    {
     "data": {
      "text/plain": [
       "0.00067522181392983449"
      ]
     },
     "execution_count": 96,
     "metadata": {},
     "output_type": "execute_result"
    }
   ],
   "source": [
    "evaluate_all_points(reconstruction, mask_dict, graph)"
   ]
  }
 ],
 "metadata": {
  "kernelspec": {
   "display_name": "Python 2",
   "language": "python",
   "name": "python2"
  },
  "language_info": {
   "codemirror_mode": {
    "name": "ipython",
    "version": 2
   },
   "file_extension": ".py",
   "mimetype": "text/x-python",
   "name": "python",
   "nbconvert_exporter": "python",
   "pygments_lexer": "ipython2",
   "version": "2.7.13"
  }
 },
 "nbformat": 4,
 "nbformat_minor": 2
}
